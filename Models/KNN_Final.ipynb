{
 "cells": [
  {
   "cell_type": "markdown",
   "metadata": {},
   "source": [
    "# Sentimental Analysis on restaurant reviews using KNN"
   ]
  },
  {
   "cell_type": "markdown",
   "metadata": {},
   "source": [
    "### Importing Libraries"
   ]
  },
  {
   "cell_type": "code",
   "execution_count": 1,
   "metadata": {},
   "outputs": [],
   "source": [
    "import numpy as np\n",
    "import pandas as pd"
   ]
  },
  {
   "cell_type": "markdown",
   "metadata": {},
   "source": [
    "### Importing dataset"
   ]
  },
  {
   "cell_type": "code",
   "execution_count": 3,
   "metadata": {},
   "outputs": [
    {
     "name": "stdout",
     "output_type": "stream",
     "text": [
      "                                                Review  Liked\n",
      "0                             Wow... Loved this place.      1\n",
      "1                                   Crust is not good.      0\n",
      "2            Not tasty and the texture was just nasty.      0\n",
      "3    Stopped by during the late May bank holiday of...      1\n",
      "4    The selection on the menu was great and so wer...      1\n",
      "..                                                 ...    ...\n",
      "995  I think food should have flavor and texture an...      0\n",
      "996                           Appetite instantly gone.      0\n",
      "997  Overall I was not impressed and would not go b...      0\n",
      "998  The whole experience was underwhelming, and I ...      0\n",
      "999  Then, as if I hadn't wasted enough of my life ...      0\n",
      "\n",
      "[1000 rows x 2 columns]\n"
     ]
    }
   ],
   "source": [
    "df=pd.read_csv(\"Restaurant_Reviews.tsv\",delimiter='\\t',quoting=3)\n",
    "print(df)"
   ]
  },
  {
   "cell_type": "markdown",
   "metadata": {},
   "source": [
    "### Pre-processing"
   ]
  },
  {
   "cell_type": "code",
   "execution_count": 4,
   "metadata": {},
   "outputs": [
    {
     "name": "stderr",
     "output_type": "stream",
     "text": [
      "[nltk_data] Downloading package stopwords to\n",
      "[nltk_data]     C:\\Users\\Dell\\AppData\\Roaming\\nltk_data...\n",
      "[nltk_data]   Package stopwords is already up-to-date!\n"
     ]
    }
   ],
   "source": [
    "import re # regular expression\n",
    "import nltk #natural language tool kit\n",
    "nltk.download('stopwords')\n",
    "from nltk.corpus import stopwords\n",
    "from nltk.stem.porter import PorterStemmer\n",
    "corpus = [] # to collect all the refined reviews\n",
    "for i in range(0,1000):\n",
    "    review = re.sub('[^a-zA-Z]', ' ',df['Review'][i]) # substituing all the none characters by space\n",
    "    review = review.lower() # converting all the reviews in to lower case\n",
    "    review = review.split() # converting the senetence into a list of words\n",
    "    # to apply the stemming we first need to create the object of the porterStemmer class\n",
    "    ps = PorterStemmer()\n",
    "    all_stopwords = stopwords.words('english') # collecting all the english stopwords\n",
    "    all_stopwords.remove('not')\n",
    "    all_stopwords.remove(\"but\")\n",
    "    all_stopwords.remove('no')\n",
    "    all_stopwords.remove(\"didn\")\n",
    "    all_stopwords.remove(\"doesn\")\n",
    "    all_stopwords.remove(\"wasn\")\n",
    "    all_stopwords.remove(\"is\")\n",
    "    all_stopwords.remove(\"won\")\n",
    "    all_stopwords.remove(\"she\")\n",
    "    all_stopwords.remove(\"he\") \n",
    "    all_stopwords.append(\"get\")\n",
    "    all_stopwords.append(\"styrofoam\")\n",
    "    all_stopwords.remove(\"don't\")\n",
    "    all_stopwords.append(\"scallop\")\n",
    "    all_stopwords.append(\"downtown\")\n",
    "    all_stopwords.append(\"attack\")\n",
    "    all_stopwords.append(\"underwhelm\")\n",
    "    all_stopwords.append(\"flirt\")\n",
    "    all_stopwords.append(\"in\")\n",
    "    all_stopwords.remove(\"won't\")\n",
    "    all_stopwords.append(\"marrow\")\n",
    "    #removed some words from stopwords list\n",
    "    review = [ps.stem(word) for word in review if not word in set(all_stopwords)]\n",
    "    # to convert the list of words into sentence we use the join function\n",
    "    review = ' '.join(review)\n",
    "    corpus.append(review)"
   ]
  },
  {
   "cell_type": "markdown",
   "metadata": {},
   "source": [
    "### Creating  Bag of Words model"
   ]
  },
  {
   "cell_type": "code",
   "execution_count": 13,
   "metadata": {},
   "outputs": [
    {
     "data": {
      "text/plain": [
       "1569"
      ]
     },
     "execution_count": 13,
     "metadata": {},
     "output_type": "execute_result"
    }
   ],
   "source": [
    "# Creating the bag of words model\n",
    "from sklearn.feature_extraction.text import CountVectorizer\n",
    "cv= CountVectorizer(max_features=None)\n",
    "x=cv.fit_transform(corpus).toarray()\n",
    "y=df.iloc[:,-1].values\n",
    "len(x[0])\n",
    "# we can reduce the number of columns/features in x by using the max_feature argument of the CountVectorizer"
   ]
  },
  {
   "cell_type": "code",
   "execution_count": 14,
   "metadata": {},
   "outputs": [],
   "source": [
    "from sklearn.preprocessing import StandardScaler\n",
    "sc = StandardScaler()\n",
    "x = sc.fit_transform(x)"
   ]
  },
  {
   "cell_type": "markdown",
   "metadata": {},
   "source": [
    "### splitting  x and y into training and test data"
   ]
  },
  {
   "cell_type": "code",
   "execution_count": 15,
   "metadata": {},
   "outputs": [],
   "source": [
    "from sklearn.feature_extraction.text import TfidfTransformer \n",
    "tfidf_transformer = TfidfTransformer()\n",
    "x = tfidf_transformer.fit_transform(x)"
   ]
  },
  {
   "cell_type": "code",
   "execution_count": 16,
   "metadata": {},
   "outputs": [],
   "source": [
    "# splitting the x and y into training and test data\n",
    "from sklearn.model_selection import train_test_split\n",
    "x_train,x_test,y_train,y_test=train_test_split(x,y,test_size=0.05,random_state=3)"
   ]
  },
  {
   "cell_type": "markdown",
   "metadata": {},
   "source": [
    "### Applying KNN"
   ]
  },
  {
   "cell_type": "code",
   "execution_count": 17,
   "metadata": {},
   "outputs": [],
   "source": [
    "# create and train the KNN model\n",
    "from sklearn.neighbors import KNeighborsClassifier\n",
    "knn_classifier = KNeighborsClassifier(n_neighbors=20,metric='euclidean',p=2, weights='uniform')\n",
    "knn_classifier.fit(x_train,y_train)\n",
    "# predicting the values\n",
    "y_pred_knn = knn_classifier.predict(x_test)"
   ]
  },
  {
   "cell_type": "markdown",
   "metadata": {},
   "source": [
    "### Plotting Confusion Matrix"
   ]
  },
  {
   "cell_type": "code",
   "execution_count": 18,
   "metadata": {},
   "outputs": [
    {
     "name": "stdout",
     "output_type": "stream",
     "text": [
      "[[15  1]\n",
      " [ 4 30]]\n",
      "0.9\n"
     ]
    },
    {
     "data": {
      "text/plain": [
       "<sklearn.metrics._plot.confusion_matrix.ConfusionMatrixDisplay at 0x23b6fb86a88>"
      ]
     },
     "execution_count": 18,
     "metadata": {},
     "output_type": "execute_result"
    },
    {
     "data": {
      "image/png": "[encoded data removed]",
      "text/plain": [
       "<Figure size 432x288 with 2 Axes>"
      ]
     },
     "metadata": {
      "needs_background": "light"
     },
     "output_type": "display_data"
    }
   ],
   "source": [
    "from sklearn.metrics import accuracy_score,confusion_matrix,plot_confusion_matrix\n",
    "print(confusion_matrix(y_test,y_pred_knn))\n",
    "print(accuracy_score(y_test,y_pred_knn))\n",
    "plot_confusion_matrix(X=x_test,y_true=y_test,estimator=knn_classifier,cmap='Blues')"
   ]
  },
  {
   "cell_type": "markdown",
   "metadata": {},
   "source": [
    "### Classification output"
   ]
  },
  {
   "cell_type": "code",
   "execution_count": 20,
   "metadata": {},
   "outputs": [
    {
     "name": "stdout",
     "output_type": "stream",
     "text": [
      "              precision    recall  f1-score   support\n",
      "\n",
      "           0       0.79      0.94      0.86        16\n",
      "           1       0.97      0.88      0.92        34\n",
      "\n",
      "    accuracy                           0.90        50\n",
      "   macro avg       0.88      0.91      0.89        50\n",
      "weighted avg       0.91      0.90      0.90        50\n",
      "\n"
     ]
    }
   ],
   "source": [
    "from sklearn.metrics import classification_report\n",
    "print(classification_report(y_test,y_pred_knn))"
   ]
  },
  {
   "cell_type": "markdown",
   "metadata": {},
   "source": [
    "### User Input"
   ]
  },
  {
   "cell_type": "code",
   "execution_count": 21,
   "metadata": {},
   "outputs": [
    {
     "name": "stdout",
     "output_type": "stream",
     "text": [
      "Good food, great ambiance!!\n",
      "Positive Review\n"
     ]
    }
   ],
   "source": [
    "review2=input()\n",
    "corpus2=[]\n",
    "review2 = re.sub('[^a-zA-Z]', ' ',review2)\n",
    "review2= review2.lower().split()\n",
    "review2 = [ps.stem(r) for r in review2 if not r in set(all_stopwords)]\n",
    "review2 = ' '.join(review2)\n",
    "corpus2.append(review2)\n",
    "\n",
    "\n",
    "x2 = cv.fit_transform(corpus+corpus2).toarray()\n",
    "liked=x2[-1].reshape(1,-1)\n",
    "result=knn_classifier.predict(liked)\n",
    "if result==1:\n",
    "    out=\"Positive Review\"\n",
    "else:\n",
    "    out=\"Negative Review\"\n",
    "print(out)\n"
   ]
  }
 ],
 "metadata": {
  "kernelspec": {
   "display_name": "Python 3",
   "language": "python",
   "name": "python3"
  },
  "language_info": {
   "codemirror_mode": {
    "name": "ipython",
    "version": 3
   },
   "file_extension": ".py",
   "mimetype": "text/x-python",
   "name": "python",
   "nbconvert_exporter": "python",
   "pygments_lexer": "ipython3",
   "version": "3.7.6"
  }
 },
 "nbformat": 4,
 "nbformat_minor": 4
}
