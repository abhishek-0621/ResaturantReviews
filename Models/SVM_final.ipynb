{
 "cells": [
  {
   "cell_type": "markdown",
   "metadata": {},
   "source": [
    "# Sentimental Analysis on Restaurant reviews using SVM "
   ]
  },
  {
   "cell_type": "markdown",
   "metadata": {},
   "source": [
    "### Importing Libraries"
   ]
  },
  {
   "cell_type": "code",
   "execution_count": 1,
   "metadata": {},
   "outputs": [],
   "source": [
    "import numpy as np\n",
    "import pandas as pd"
   ]
  },
  {
   "cell_type": "markdown",
   "metadata": {},
   "source": [
    "### Importing dataset"
   ]
  },
  {
   "cell_type": "code",
   "execution_count": 2,
   "metadata": {},
   "outputs": [
    {
     "name": "stdout",
     "output_type": "stream",
     "text": [
      "                                                Review  Liked\n",
      "0                             Wow... Loved this place.      1\n",
      "1                                   Crust is not good.      0\n",
      "2            Not tasty and the texture was just nasty.      0\n",
      "3    Stopped by during the late May bank holiday of...      1\n",
      "4    The selection on the menu was great and so wer...      1\n",
      "..                                                 ...    ...\n",
      "995  I think food should have flavor and texture an...      0\n",
      "996                           Appetite instantly gone.      0\n",
      "997  Overall I was not impressed and would not go b...      0\n",
      "998  The whole experience was underwhelming, and I ...      0\n",
      "999  Then, as if I hadn't wasted enough of my life ...      0\n",
      "\n",
      "[1000 rows x 2 columns]\n"
     ]
    }
   ],
   "source": [
    "df = pd.read_csv('Restaurant_Reviews.tsv',delimiter='\\t', quoting=3)\n",
    "print(df)"
   ]
  },
  {
   "cell_type": "markdown",
   "metadata": {},
   "source": [
    "### Pre-processing"
   ]
  },
  {
   "cell_type": "code",
   "execution_count": 3,
   "metadata": {},
   "outputs": [
    {
     "name": "stderr",
     "output_type": "stream",
     "text": [
      "[nltk_data] Downloading package stopwords to\n",
      "[nltk_data]     C:\\Users\\Dell\\AppData\\Roaming\\nltk_data...\n",
      "[nltk_data]   Package stopwords is already up-to-date!\n"
     ]
    }
   ],
   "source": [
    "import re # regular expression\n",
    "import nltk #natural language tool kit\n",
    "nltk.download('stopwords')\n",
    "from nltk.corpus import stopwords\n",
    "from nltk.stem.porter import PorterStemmer\n",
    "corpus = [] # to collect all the refined reviews\n",
    "for i in range(0,1000):\n",
    "    review = re.sub('[^a-zA-Z]', ' ',df['Review'][i]) # substituing all the none characters by space\n",
    "    review = review.lower() # converting all the reviews in to lower case\n",
    "    review = review.split() # converting the senetence into a list of words\n",
    "    # to apply the stemming we first need to create the object of the porterStemmer class\n",
    "    ps = PorterStemmer()\n",
    "    all_stopwords = stopwords.words('english') # collecting all the english stopwords\n",
    "    all_stopwords.remove('not')\n",
    "    all_stopwords.remove(\"but\")\n",
    "    all_stopwords.remove('no')\n",
    "    all_stopwords.remove(\"didn\")\n",
    "    all_stopwords.remove(\"doesn\")\n",
    "    all_stopwords.remove(\"wasn\")\n",
    "    all_stopwords.remove(\"is\")\n",
    "    all_stopwords.remove(\"won\")\n",
    "    all_stopwords.remove(\"she\")\n",
    "    all_stopwords.remove(\"he\") \n",
    "    all_stopwords.append(\"get\")\n",
    "    all_stopwords.append(\"styrofoam\")\n",
    "    all_stopwords.remove(\"don't\")\n",
    "    all_stopwords.append(\"scallop\")\n",
    "    all_stopwords.append(\"downtown\")\n",
    "    all_stopwords.append(\"attack\")\n",
    "    all_stopwords.append(\"underwhelm\")\n",
    "    all_stopwords.append(\"flirt\")\n",
    "    all_stopwords.append(\"in\")\n",
    "    all_stopwords.remove(\"won't\")\n",
    "    all_stopwords.append(\"marrow\")\n",
    "    #removed some words from stopwords list\n",
    "    review = [ps.stem(word) for word in review if not word in set(all_stopwords)]\n",
    "    # to convert the list of words into sentence we use the join function\n",
    "    review = ' '.join(review)\n",
    "    corpus.append(review)"
   ]
  },
  {
   "cell_type": "markdown",
   "metadata": {},
   "source": [
    "### Creating Bag Of Words model"
   ]
  },
  {
   "cell_type": "code",
   "execution_count": 4,
   "metadata": {},
   "outputs": [
    {
     "data": {
      "text/plain": [
       "1500"
      ]
     },
     "execution_count": 4,
     "metadata": {},
     "output_type": "execute_result"
    }
   ],
   "source": [
    "from sklearn.feature_extraction.text import CountVectorizer\n",
    "cv = CountVectorizer(max_features=1500)\n",
    "x = cv.fit_transform(corpus).toarray()\n",
    "y = df.iloc[:,-1].values\n",
    "len(x[0])\n",
    "# we can reduce the number of columns/features in x by using the max_feature argument of the CountVectorizer"
   ]
  },
  {
   "cell_type": "markdown",
   "metadata": {},
   "source": [
    "### Splitting training and testing dataset "
   ]
  },
  {
   "cell_type": "code",
   "execution_count": 5,
   "metadata": {},
   "outputs": [],
   "source": [
    "# splitting the x and y into training and test data\n",
    "from sklearn.model_selection import train_test_split\n",
    "x_train,x_test,y_train,y_test = train_test_split(x,y,test_size = 0.05, random_state=0)"
   ]
  },
  {
   "cell_type": "markdown",
   "metadata": {},
   "source": [
    "### Applying SVM"
   ]
  },
  {
   "cell_type": "code",
   "execution_count": 6,
   "metadata": {},
   "outputs": [
    {
     "data": {
      "text/plain": [
       "SVC(C=1.0, break_ties=False, cache_size=200, class_weight=None, coef0=0.0,\n",
       "    decision_function_shape='ovr', degree=3, gamma='scale', kernel='linear',\n",
       "    max_iter=-1, probability=False, random_state=0, shrinking=True, tol=0.001,\n",
       "    verbose=False)"
      ]
     },
     "execution_count": 6,
     "metadata": {},
     "output_type": "execute_result"
    }
   ],
   "source": [
    "from sklearn.svm import SVC\n",
    "SVM_classifier = SVC(kernel='linear', random_state=0)\n",
    "SVM_classifier.fit(x_train,y_train)"
   ]
  },
  {
   "cell_type": "code",
   "execution_count": 7,
   "metadata": {},
   "outputs": [],
   "source": [
    "# predicting the classification for the test data\n",
    "y_pred = SVM_classifier.predict(x_test)"
   ]
  },
  {
   "cell_type": "markdown",
   "metadata": {},
   "source": [
    "### Plotting Confusion Matrix"
   ]
  },
  {
   "cell_type": "code",
   "execution_count": 8,
   "metadata": {},
   "outputs": [
    {
     "name": "stdout",
     "output_type": "stream",
     "text": [
      "Accuracy score is:  0.94\n",
      "[[25  3]\n",
      " [ 0 22]]\n"
     ]
    },
    {
     "data": {
      "text/plain": [
       "<sklearn.metrics._plot.confusion_matrix.ConfusionMatrixDisplay at 0x22112035448>"
      ]
     },
     "execution_count": 8,
     "metadata": {},
     "output_type": "execute_result"
    },
    {
     "data": {
      "image/png": "[encoded data removed]",
      "text/plain": [
       "<Figure size 432x288 with 2 Axes>"
      ]
     },
     "metadata": {
      "needs_background": "light"
     },
     "output_type": "display_data"
    }
   ],
   "source": [
    "from sklearn.metrics import accuracy_score,confusion_matrix,plot_confusion_matrix\n",
    "acc = accuracy_score(y_test,y_pred)\n",
    "print(\"Accuracy score is: \",acc)\n",
    "print(confusion_matrix(y_test,y_pred))\n",
    "plot_confusion_matrix(estimator=SVM_classifier, X=x_test, y_true=y_test, cmap='Blues')"
   ]
  },
  {
   "cell_type": "markdown",
   "metadata": {},
   "source": [
    "### Classification output"
   ]
  },
  {
   "cell_type": "code",
   "execution_count": 9,
   "metadata": {},
   "outputs": [
    {
     "name": "stdout",
     "output_type": "stream",
     "text": [
      "              precision    recall  f1-score   support\n",
      "\n",
      "           0       1.00      0.89      0.94        28\n",
      "           1       0.88      1.00      0.94        22\n",
      "\n",
      "    accuracy                           0.94        50\n",
      "   macro avg       0.94      0.95      0.94        50\n",
      "weighted avg       0.95      0.94      0.94        50\n",
      "\n"
     ]
    }
   ],
   "source": [
    "from sklearn.metrics import classification_report\n",
    "print(classification_report(y_test,y_pred))"
   ]
  },
  {
   "cell_type": "markdown",
   "metadata": {},
   "source": [
    "### User input"
   ]
  },
  {
   "cell_type": "code",
   "execution_count": 10,
   "metadata": {},
   "outputs": [
    {
     "name": "stdout",
     "output_type": "stream",
     "text": [
      "Good food, great ambiance!\n",
      "Positive\n"
     ]
    }
   ],
   "source": [
    "review2=input()\n",
    "corpus2=[]\n",
    "review2 = re.sub('[^a-zA-Z]', ' ',review2)\n",
    "review2= review2.lower().split()\n",
    "review2 = [ps.stem(r) for r in review2 if not r in set(all_stopwords)]\n",
    "review2 = ' '.join(review2)\n",
    "corpus2.append(review2)\n",
    "\n",
    "\n",
    "x2 = cv.fit_transform(corpus+corpus2).toarray()\n",
    "liked=x2[-1].reshape(1,-1)\n",
    "result=SVM_classifier.predict(liked)\n",
    "if result==1:\n",
    "    out=\"Positive\"\n",
    "else:\n",
    "    out=\"Negative\"\n",
    "print(out)\n"
   ]
  },
  {
   "cell_type": "code",
   "execution_count": null,
   "metadata": {},
   "outputs": [],
   "source": []
  }
 ],
 "metadata": {
  "kernelspec": {
   "display_name": "Python 3",
   "language": "python",
   "name": "python3"
  },
  "language_info": {
   "codemirror_mode": {
    "name": "ipython",
    "version": 3
   },
   "file_extension": ".py",
   "mimetype": "text/x-python",
   "name": "python",
   "nbconvert_exporter": "python",
   "pygments_lexer": "ipython3",
   "version": "3.7.6"
  },
  "varInspector": {
   "cols": {
    "lenName": 16,
    "lenType": 16,
    "lenVar": 40
   },
   "kernels_config": {
    "python": {
     "delete_cmd_postfix": "",
     "delete_cmd_prefix": "del ",
     "library": "var_list.py",
     "varRefreshCmd": "print(var_dic_list())"
    },
    "r": {
     "delete_cmd_postfix": ") ",
     "delete_cmd_prefix": "rm(",
     "library": "var_list.r",
     "varRefreshCmd": "cat(var_dic_list()) "
    }
   },
   "types_to_exclude": [
    "module",
    "function",
    "builtin_function_or_method",
    "instance",
    "_Feature"
   ],
   "window_display": false
  }
 },
 "nbformat": 4,
 "nbformat_minor": 4
}
